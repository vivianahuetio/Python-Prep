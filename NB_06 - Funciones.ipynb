{
  "cells": [
    {
      "cell_type": "markdown",
      "metadata": {
        "id": "view-in-github",
        "colab_type": "text"
      },
      "source": [
        "<a href=\"https://colab.research.google.com/github/vivianahuetio/Python-Prep/blob/main/NB_06%20-%20Funciones.ipynb\" target=\"_parent\"><img src=\"https://colab.research.google.com/assets/colab-badge.svg\" alt=\"Open In Colab\"/></a>"
      ]
    },
    {
      "cell_type": "markdown",
      "metadata": {
        "id": "Ei-D14YdUO8h"
      },
      "source": [
        "## Funciones"
      ]
    },
    {
      "cell_type": "markdown",
      "metadata": {
        "id": "EXh9V-4gUO8j"
      },
      "source": [
        "1) Crear una función que reciba un número como parámetro y devuelva True si es primo y False si no lo es"
      ]
    },
    {
      "cell_type": "code",
      "execution_count": null,
      "metadata": {
        "id": "hePGvWSEUO8k"
      },
      "outputs": [],
      "source": [
        "def verifica_primo(nro):\n",
        "    es_primo = True\n",
        "    for i in range(2, nro):\n",
        "        if nro % i == 0:\n",
        "            es_primo = False\n",
        "            break\n",
        "    return es_primo"
      ]
    },
    {
      "cell_type": "markdown",
      "metadata": {
        "id": "CWNBKgbyUO8m"
      },
      "source": [
        "2) Utilizando la función del punto 1, realizar otra función que reciba de parámetro una lista de números y devuelva sólo aquellos que son primos en otra lista"
      ]
    },
    {
      "cell_type": "code",
      "execution_count": null,
      "metadata": {
        "id": "XpyLiDx-UO8m"
      },
      "outputs": [],
      "source": [
        "def extrae_primos_de_lista(lista):\n",
        "    lista_primos = []\n",
        "    for elemento in lista:\n",
        "        if verifica_primo(int(elemento)):\n",
        "            lista_primos.append(elemento)\n",
        "    return lista_primos"
      ]
    },
    {
      "cell_type": "code",
      "execution_count": null,
      "metadata": {
        "id": "U5RYuDo3UO8m",
        "outputId": "87eda489-a641-48c7-db3f-163013c364d4"
      },
      "outputs": [
        {
          "data": {
            "text/plain": [
              "[1, 2, 3, 5, 7, 11, 13, 17, 19]"
            ]
          },
          "execution_count": 26,
          "metadata": {},
          "output_type": "execute_result"
        }
      ],
      "source": [
        "lis_completa = [1,2,3,4,5,6,7,8,9,10,11,12,13,14,15,16,17,18,19,20]\n",
        "lis_primos = extrae_primos_de_lista(lis_completa)\n",
        "lis_primos"
      ]
    },
    {
      "cell_type": "markdown",
      "metadata": {
        "id": "mKY8ETc1UO8o"
      },
      "source": [
        "3) Crear una función que al recibir una lista de números, devuelva el que más se repite y cuántas veces lo hace. Si hay más de un \"más repetido\", que devuelva cualquiera"
      ]
    },
    {
      "cell_type": "code",
      "execution_count": null,
      "metadata": {
        "id": "PDm3L9BcUO8o"
      },
      "outputs": [],
      "source": [
        "def valor_modal(lista):\n",
        "    lista_unicos = []\n",
        "    lista_repeticiones = []\n",
        "    if len(lista) == 0:\n",
        "        return None\n",
        "    for elemento in lista:\n",
        "        if elemento in lista_unicos:\n",
        "            i = lista_unicos.index(elemento)\n",
        "            lista_repeticiones[i] += 1\n",
        "        else:\n",
        "            lista_unicos.append(elemento)\n",
        "            lista_repeticiones.append(1)\n",
        "    moda = lista_unicos[0]\n",
        "    maximo = lista_repeticiones[0]\n",
        "    for i, elemento in enumerate(lista_unicos):\n",
        "        if lista_repeticiones[i] > maximo:\n",
        "            moda = lista_unicos[i]\n",
        "            maximo = lista_repeticiones[i]\n",
        "    return moda, maximo"
      ]
    },
    {
      "cell_type": "code",
      "execution_count": null,
      "metadata": {
        "id": "qxvr5OBqUO8o",
        "outputId": "359c96e4-8466-4b40-bb9e-ddeea304f5f4"
      },
      "outputs": [
        {
          "name": "stdout",
          "output_type": "stream",
          "text": [
            "El valor modal es 5 y se repite 3 veces.\n"
          ]
        }
      ],
      "source": [
        "lis = [1,1,5,6,8,10,22,5,6,4,11,9,5]\n",
        "moda, repite = valor_modal(lis)\n",
        "print('El valor modal es', moda, 'y se repite', repite, 'veces.')"
      ]
    },
    {
      "cell_type": "markdown",
      "metadata": {
        "id": "MRyYX1lFUO8p"
      },
      "source": [
        "4) A la función del punto 3, agregar un parámetro más, que permita elegir si se requiere el menor o el mayor de los mas repetidos."
      ]
    },
    {
      "cell_type": "code",
      "execution_count": null,
      "metadata": {
        "id": "z-y-Cwr2UO8p"
      },
      "outputs": [],
      "source": [
        "def valor_modal(lista, menor):\n",
        "    '''\n",
        "    Esta función devuelve el valor modal y recibe de parámetros dos valores:\n",
        "    1-Una lista de números\n",
        "    2-Verdadero (por defecto) por si se requiere el mínimo de los más repetidos, o Falso si se requiere el máximo\n",
        "    '''\n",
        "    lista_unicos = []\n",
        "    lista_repeticiones = []\n",
        "    if len(lista) == 0:\n",
        "        return None\n",
        "    if (menor):\n",
        "        lista.sort()\n",
        "    else:\n",
        "        lista.sort(reverse=True)\n",
        "    for elemento in lista:\n",
        "        if elemento in lista_unicos:\n",
        "            i = lista_unicos.index(elemento)\n",
        "            lista_repeticiones[i] += 1\n",
        "        else:\n",
        "            lista_unicos.append(elemento)\n",
        "            lista_repeticiones.append(1)\n",
        "    moda = lista_unicos[0]\n",
        "    maximo = lista_repeticiones[0]\n",
        "    for i, elemento in enumerate(lista_unicos):\n",
        "        if lista_repeticiones[i] > maximo:\n",
        "            moda = lista_unicos[i]\n",
        "            maximo = lista_repeticiones[i]\n",
        "    return moda, maximo"
      ]
    },
    {
      "cell_type": "code",
      "execution_count": null,
      "metadata": {
        "id": "zixl_HFGUO8r",
        "outputId": "530cde01-be45-4247-e8f6-0096444c8aab"
      },
      "outputs": [
        {
          "name": "stdout",
          "output_type": "stream",
          "text": [
            "El valor modal es 5 y se repite 3 veces.\n"
          ]
        }
      ],
      "source": [
        "lis = [10,1,5,6,8,10,22,5,6,4,11,10,9,5]\n",
        "moda, repite = valor_modal(lis, True)\n",
        "print('El valor modal es', moda, 'y se repite', repite, 'veces.')"
      ]
    },
    {
      "cell_type": "code",
      "execution_count": null,
      "metadata": {
        "id": "ie0-9Te1UO8t",
        "outputId": "beeb195f-9626-4731-af7a-c97a7396f664"
      },
      "outputs": [
        {
          "name": "stdout",
          "output_type": "stream",
          "text": [
            "El valor modal es 10 y se repite 3 veces.\n"
          ]
        }
      ],
      "source": [
        "lis = [10,1,5,6,8,10,22,5,6,4,11,10,9,5]\n",
        "moda, repite = valor_modal(lis, False)\n",
        "print('El valor modal es', moda, 'y se repite', repite, 'veces.')"
      ]
    },
    {
      "cell_type": "markdown",
      "metadata": {
        "id": "Cf9CqBwrUO8t"
      },
      "source": [
        "5) Crear una función que convierta entre grados Celsius, Farenheit y Kelvin<br>\n",
        "Fórmula 1\t: (°C × 9/5) + 32 = °F<br>\n",
        "Fórmula 2\t: °C + 273.15 = °K<br>\n",
        "Debe recibir 3 parámetros: el valor, la medida de orígen y la medida de destino\n"
      ]
    },
    {
      "cell_type": "code",
      "execution_count": null,
      "metadata": {
        "id": "FTCApy0wUO8t"
      },
      "outputs": [],
      "source": [
        "def conversion_grados(valor, origen, destino):\n",
        "    if (origen == 'celsius'):\n",
        "        if (destino == 'celsius'):\n",
        "            valor_destino = valor\n",
        "        elif (destino == 'farenheit'):\n",
        "            valor_destino = (valor * 9 / 5) + 32\n",
        "        elif (destino == 'kelvin'):\n",
        "            valor_destino = valor + 273.15\n",
        "        else:\n",
        "            print('Parámetro de Destino incorrecto')\n",
        "    elif (origen == 'farenheit'):\n",
        "        if (destino == 'celsius'):\n",
        "            valor_destino = (valor - 32) * 5 / 9\n",
        "        elif (destino == 'farenheit'):\n",
        "            valor_destino = valor\n",
        "        elif (destino == 'kelvin'):\n",
        "            valor_destino = ((valor - 32) * 5 / 9) + 273.15\n",
        "        else:\n",
        "            print('Parámetro de Destino incorrecto')\n",
        "    elif (origen == 'kelvin'):\n",
        "        if (destino == 'celsius'):\n",
        "            valor_destino = valor - 273.15\n",
        "        elif (destino == 'farenheit'):\n",
        "            valor_destino = ((valor - 273.15) * 9 / 5) + 32\n",
        "        elif (destino == 'kelvin'):\n",
        "            valor_destino = valor\n",
        "        else:\n",
        "            print('Parámetro de Destino incorrecto')\n",
        "    else:\n",
        "        print('Parámetro de Origen incorrecto')\n",
        "    return valor_destino"
      ]
    },
    {
      "cell_type": "code",
      "execution_count": null,
      "metadata": {
        "id": "-nRyRSggUO8u",
        "outputId": "1e96caaa-a88c-468b-c20b-79cf7e30b902"
      },
      "outputs": [
        {
          "name": "stdout",
          "output_type": "stream",
          "text": [
            "1 grado Celsius a Celsius: 1\n",
            "1 grado Celsius a Kelvin: 274.15\n",
            "1 grado Celsius a Farenheit: 33.8\n",
            "1 grado Kelvin a Celsius: -272.15\n",
            "1 grado Kelvin a Kelvin: 1\n",
            "1 grado Kelvin a Farenheit: -457.87\n",
            "1 grado Farenheit a Celsius: -17.22222222222222\n",
            "1 grado Farenheit a Kelvin: 255.92777777777775\n",
            "1 grado Farenheit a Farenheit: 1\n"
          ]
        }
      ],
      "source": [
        "print('1 grado Celsius a Celsius:', conversion_grados(1, 'celsius', 'celsius'))\n",
        "print('1 grado Celsius a Kelvin:', conversion_grados(1, 'celsius', 'kelvin'))\n",
        "print('1 grado Celsius a Farenheit:', conversion_grados(1, 'celsius', 'farenheit'))\n",
        "print('1 grado Kelvin a Celsius:', conversion_grados(1, 'kelvin', 'celsius'))\n",
        "print('1 grado Kelvin a Kelvin:', conversion_grados(1, 'kelvin', 'kelvin'))\n",
        "print('1 grado Kelvin a Farenheit:', conversion_grados(1, 'kelvin', 'farenheit'))\n",
        "print('1 grado Farenheit a Celsius:', conversion_grados(1, 'farenheit', 'celsius'))\n",
        "print('1 grado Farenheit a Kelvin:', conversion_grados(1, 'farenheit', 'kelvin'))\n",
        "print('1 grado Farenheit a Farenheit:', conversion_grados(1, 'farenheit', 'farenheit'))"
      ]
    },
    {
      "cell_type": "markdown",
      "metadata": {
        "id": "jQGEG_xBUO8v"
      },
      "source": [
        "6) Iterando una lista con los tres valores posibles de temperatura que recibe la función del punto 5, hacer un print para cada combinación de los mismos:"
      ]
    },
    {
      "cell_type": "code",
      "execution_count": null,
      "metadata": {
        "id": "eV5fZcB_UO8v",
        "outputId": "27b3950e-3abf-4048-dbde-7ea39c0a5603"
      },
      "outputs": [
        {
          "name": "stdout",
          "output_type": "stream",
          "text": [
            "1 grado celsius a celsius : 1\n",
            "1 grado celsius a kelvin : 274.15\n",
            "1 grado celsius a farenheit : 33.8\n",
            "1 grado kelvin a celsius : -272.15\n",
            "1 grado kelvin a kelvin : 1\n",
            "1 grado kelvin a farenheit : -457.87\n",
            "1 grado farenheit a celsius : -17.22222222222222\n",
            "1 grado farenheit a kelvin : 255.92777777777775\n",
            "1 grado farenheit a farenheit : 1\n"
          ]
        }
      ],
      "source": [
        "metricas = ['celsius','kelvin','farenheit']\n",
        "for i in range(0,3):\n",
        "    for j in range(0,3):\n",
        "        print('1 grado', metricas[i], 'a', metricas[j],':', conversion_grados(1, metricas[i], metricas[j]))"
      ]
    },
    {
      "cell_type": "markdown",
      "metadata": {
        "id": "DbrHys1hUO8v"
      },
      "source": [
        "7) Armar una función que devuelva el factorial de un número. Tener en cuenta que el usuario puede equivocarse y enviar de parámetro un número no entero o negativo"
      ]
    },
    {
      "cell_type": "code",
      "execution_count": null,
      "metadata": {
        "id": "tB2gdlRBUO8w",
        "outputId": "e2c3636e-25e8-47a4-a177-addf5f50c0af"
      },
      "outputs": [
        {
          "name": "stdout",
          "output_type": "stream",
          "text": [
            "6\n",
            "El numero debe ser pisitivo\n",
            "El numero debe ser un entero\n",
            "El numero debe ser un entero\n"
          ]
        }
      ],
      "source": [
        "def factorial(numero):\n",
        "    if(type(numero) != int):\n",
        "        return 'El numero debe ser un entero'\n",
        "    if(numero < 0):\n",
        "        return 'El numero debe ser pisitivo'\n",
        "    if (numero > 1):\n",
        "        numero = numero * factorial(numero - 1)\n",
        "    return numero\n",
        "print(factorial(3))\n",
        "print(factorial(-2))\n",
        "print(factorial(1.23))\n",
        "print(factorial('6'))"
      ]
    }
  ],
  "metadata": {
    "interpreter": {
      "hash": "c85384e4cb51c8b72350f3a8712cc8351fdc3955e32a27f9b60c6242ab125f01"
    },
    "kernelspec": {
      "display_name": "Python 3 (ipykernel)",
      "language": "python",
      "name": "python3"
    },
    "language_info": {
      "codemirror_mode": {
        "name": "ipython",
        "version": 3
      },
      "file_extension": ".py",
      "mimetype": "text/x-python",
      "name": "python",
      "nbconvert_exporter": "python",
      "pygments_lexer": "ipython3",
      "version": "3.9.7"
    },
    "colab": {
      "provenance": [],
      "include_colab_link": true
    }
  },
  "nbformat": 4,
  "nbformat_minor": 0
}