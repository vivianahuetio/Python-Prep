{
  "cells": [
    {
      "cell_type": "markdown",
      "metadata": {
        "id": "view-in-github",
        "colab_type": "text"
      },
      "source": [
        "<a href=\"https://colab.research.google.com/github/vivianahuetio/Python-Prep/blob/main/NB_08%20_Error%20Handling.ipynb\" target=\"_parent\"><img src=\"https://colab.research.google.com/assets/colab-badge.svg\" alt=\"Open In Colab\"/></a>"
      ]
    },
    {
      "cell_type": "markdown",
      "metadata": {
        "id": "d75OazymG0KD"
      },
      "source": [
        "## Manejo de errores"
      ]
    },
    {
      "cell_type": "markdown",
      "metadata": {
        "id": "8tv6HVNfG0KH"
      },
      "source": [
        "1) Con la clase creada en el módulo 7, tener en cuenta diferentes casos en que el código pudiera arrojar error. Por ejemplo, en la creación del objeto recibimos una lista de números enteros pero ¿qué pasa si se envía otro tipo de dato?"
      ]
    },
    {
      "cell_type": "code",
      "execution_count": null,
      "metadata": {
        "id": "-v9rrYSPG0KI"
      },
      "outputs": [],
      "source": [
        "import sys\n",
        "sys.path.append(r'/C:/Users/lopez/Documents/Henry/Repos/Python-Prep/07 - Classes & OOP/herramientas.py')"
      ]
    },
    {
      "cell_type": "code",
      "execution_count": null,
      "metadata": {
        "id": "6zummYGjG0KJ"
      },
      "outputs": [],
      "source": [
        "import herramientas as h"
      ]
    },
    {
      "cell_type": "code",
      "execution_count": null,
      "metadata": {
        "id": "DMOKpYMGG0KJ",
        "outputId": "72619c64-99cc-4f14-b58c-35850dbd3091"
      },
      "outputs": [
        {
          "ename": "ValueError",
          "evalue": "Se ha creado con un elemento 0. Se esperaba una lista de núemeros enteros",
          "output_type": "error",
          "traceback": [
            "\u001b[1;31m---------------------------------------------------------------------------\u001b[0m",
            "\u001b[1;31mValueError\u001b[0m                                Traceback (most recent call last)",
            "\u001b[1;32m~\\AppData\\Local\\Temp/ipykernel_4832/2426941956.py\u001b[0m in \u001b[0;36m<module>\u001b[1;34m\u001b[0m\n\u001b[1;32m----> 1\u001b[1;33m \u001b[0mh1\u001b[0m \u001b[1;33m=\u001b[0m \u001b[0mh\u001b[0m\u001b[1;33m.\u001b[0m\u001b[0mHerramientas\u001b[0m\u001b[1;33m(\u001b[0m\u001b[1;34m'hola'\u001b[0m\u001b[1;33m)\u001b[0m\u001b[1;33m\u001b[0m\u001b[1;33m\u001b[0m\u001b[0m\n\u001b[0m",
            "\u001b[1;32mc:\\Users\\lopez\\Documents\\Henry\\Repos\\Python-Prep\\08 - Error Handling\\herramientas.py\u001b[0m in \u001b[0;36m__init__\u001b[1;34m(self, lista_numeros)\u001b[0m\n\u001b[0;32m      3\u001b[0m         \u001b[1;32mif\u001b[0m \u001b[1;33m(\u001b[0m\u001b[0mtype\u001b[0m\u001b[1;33m(\u001b[0m\u001b[0mlista_numeros\u001b[0m\u001b[1;33m)\u001b[0m \u001b[1;33m!=\u001b[0m \u001b[0mlist\u001b[0m\u001b[1;33m)\u001b[0m\u001b[1;33m:\u001b[0m\u001b[1;33m\u001b[0m\u001b[1;33m\u001b[0m\u001b[0m\n\u001b[0;32m      4\u001b[0m             \u001b[0mself\u001b[0m\u001b[1;33m.\u001b[0m\u001b[0mlista\u001b[0m \u001b[1;33m=\u001b[0m \u001b[1;33m[\u001b[0m\u001b[1;36m0\u001b[0m\u001b[1;33m]\u001b[0m\u001b[1;33m\u001b[0m\u001b[1;33m\u001b[0m\u001b[0m\n\u001b[1;32m----> 5\u001b[1;33m             \u001b[1;32mraise\u001b[0m \u001b[0mValueError\u001b[0m\u001b[1;33m(\u001b[0m\u001b[1;34m'Se ha creado con un elemento 0. Se esperaba una lista de núemeros enteros'\u001b[0m\u001b[1;33m)\u001b[0m\u001b[1;33m\u001b[0m\u001b[1;33m\u001b[0m\u001b[0m\n\u001b[0m\u001b[0;32m      6\u001b[0m         \u001b[1;32melse\u001b[0m\u001b[1;33m:\u001b[0m\u001b[1;33m\u001b[0m\u001b[1;33m\u001b[0m\u001b[0m\n\u001b[0;32m      7\u001b[0m             \u001b[0mself\u001b[0m\u001b[1;33m.\u001b[0m\u001b[0mlista\u001b[0m \u001b[1;33m=\u001b[0m \u001b[0mlista_numeros\u001b[0m\u001b[1;33m\u001b[0m\u001b[1;33m\u001b[0m\u001b[0m\n",
            "\u001b[1;31mValueError\u001b[0m: Se ha creado con un elemento 0. Se esperaba una lista de núemeros enteros"
          ]
        }
      ],
      "source": [
        "h1 = h.Herramientas('hola')"
      ]
    },
    {
      "cell_type": "code",
      "execution_count": null,
      "metadata": {
        "id": "JXPsJn8tG0KK"
      },
      "outputs": [],
      "source": [
        "h1 = h.Herramientas([2,3,5,6,2])"
      ]
    },
    {
      "cell_type": "markdown",
      "metadata": {
        "id": "Ax7BJcEUG0KK"
      },
      "source": [
        "2) En la función que hace la conversión de grados, validar que los parámetros enviados sean los esperados, de no serlo, informar cuáles son los valores esperados."
      ]
    },
    {
      "cell_type": "code",
      "execution_count": null,
      "metadata": {
        "id": "L1XG1nHUG0KL",
        "outputId": "b67a8859-0719-4c60-b1f4-0118e029f88c"
      },
      "outputs": [
        {
          "data": {
            "text/plain": [
              "<module 'herramientas' from 'c:\\\\Users\\\\lopez\\\\Documents\\\\Henry\\\\Repos\\\\Python-Prep\\\\08 - Error Handling\\\\herramientas.py'>"
            ]
          },
          "execution_count": 5,
          "metadata": {},
          "output_type": "execute_result"
        }
      ],
      "source": [
        "import importlib\n",
        "importlib.reload(h)"
      ]
    },
    {
      "cell_type": "code",
      "execution_count": null,
      "metadata": {
        "id": "KuEh0q3XG0KL"
      },
      "outputs": [],
      "source": [
        "h1 = h.Herramientas([2,3,5,6,2])"
      ]
    },
    {
      "cell_type": "code",
      "execution_count": null,
      "metadata": {
        "id": "uE_lUCbMG0KM",
        "outputId": "336ce4bd-483a-4521-ab07-ef8f02863275"
      },
      "outputs": [
        {
          "name": "stdout",
          "output_type": "stream",
          "text": [
            "Los parametros esperados son: ['celsius', 'kelvin', 'farenheit']\n",
            "Los parametros esperados son: ['celsius', 'kelvin', 'farenheit']\n"
          ]
        },
        {
          "data": {
            "text/plain": [
              "[2, 3, 5, 6, 2]"
            ]
          },
          "execution_count": 7,
          "metadata": {},
          "output_type": "execute_result"
        }
      ],
      "source": [
        "h1.conversion_grados(1,2)"
      ]
    },
    {
      "cell_type": "code",
      "execution_count": null,
      "metadata": {
        "id": "IcmK0v1uG0KM",
        "outputId": "89aecd9c-9d3f-488e-c28b-fb5fc1ce63e8"
      },
      "outputs": [
        {
          "data": {
            "text/plain": [
              "[35.6, 37.4, 41.0, 42.8, 35.6]"
            ]
          },
          "execution_count": 8,
          "metadata": {},
          "output_type": "execute_result"
        }
      ],
      "source": [
        "h1.conversion_grados('celsius','farenheit')"
      ]
    },
    {
      "cell_type": "markdown",
      "metadata": {
        "id": "6atH4J84G0KM"
      },
      "source": [
        "3) Importar el modulo \"unittest\" y crear los siguientes casos de pruebas sobre la clase utilizada en el punto 2<br>\n",
        "Creacion del objeto incorrecta<br>\n",
        "Creacion correcta del objeto<br>\n",
        "Metodo valor_modal()<br>\n",
        "\n",
        "Se puede usar \"raise ValueError()\" en la creación de la clase para verificar el error. Investigar sobre esta funcionalidad."
      ]
    },
    {
      "cell_type": "code",
      "execution_count": null,
      "metadata": {
        "id": "t3o-rNJKG0KN"
      },
      "outputs": [],
      "source": [
        "import unittest"
      ]
    },
    {
      "cell_type": "code",
      "execution_count": null,
      "metadata": {
        "id": "4Y_b_BGzG0KN"
      },
      "outputs": [],
      "source": [
        "class ProbandoMiClase(unittest.TestCase):\n",
        "    \n",
        "    def test_crear_objeto1(self):\n",
        "        param = 'hola'\n",
        "        self.assertRaises(ValueError, h.Herramientas, param)\n",
        "        #self.failUnlessRaises(ValueError, h.Herramientas, param)\n",
        "\n",
        "    def test_crear_objeto2(self):\n",
        "        param = [1,2,2,5]\n",
        "        h1 = h.Herramientas(param)\n",
        "        self.assertEqual(h1.lista, param)\n",
        "\n",
        "    def test_valor_modal(self):\n",
        "        lis = [1,2,1,3]\n",
        "        h1 = h.Herramientas(lis)\n",
        "        moda, veces = h1.valor_modal(False)\n",
        "        moda = [moda]\n",
        "        moda.append(veces)\n",
        "        resultado = [1, 2]\n",
        "        self.assertEqual(moda, resultado)"
      ]
    },
    {
      "cell_type": "code",
      "execution_count": null,
      "metadata": {
        "id": "nj26IVMTG0KN",
        "outputId": "6e8f70c9-fcd3-4be8-8649-121bfc8a83e9"
      },
      "outputs": [
        {
          "name": "stderr",
          "output_type": "stream",
          "text": [
            "test_crear_objeto1 (__main__.ProbandoMiClase) ... ok\n",
            "test_crear_objeto2 (__main__.ProbandoMiClase) ... ok\n",
            "test_valor_modal (__main__.ProbandoMiClase) ... ok\n",
            "\n",
            "----------------------------------------------------------------------\n",
            "Ran 3 tests in 0.003s\n",
            "\n",
            "OK\n"
          ]
        },
        {
          "data": {
            "text/plain": [
              "<unittest.main.TestProgram at 0x2654fada670>"
            ]
          },
          "execution_count": 12,
          "metadata": {},
          "output_type": "execute_result"
        }
      ],
      "source": [
        "unittest.main(argv=[''], verbosity=2, exit=False)"
      ]
    },
    {
      "cell_type": "markdown",
      "metadata": {
        "id": "01gKf0FzG0KO"
      },
      "source": [
        "4) Probar una creación incorrecta y visualizar la salida del \"raise\""
      ]
    },
    {
      "cell_type": "code",
      "execution_count": null,
      "metadata": {
        "id": "DSFLBcgbG0KP",
        "outputId": "2d5d3145-aea3-4b7d-9464-cb557fec9fe8"
      },
      "outputs": [
        {
          "ename": "ValueError",
          "evalue": "Se ha creado con un elemento 0. Se esperaba una lista de núemeros enteros",
          "output_type": "error",
          "traceback": [
            "\u001b[1;31m---------------------------------------------------------------------------\u001b[0m",
            "\u001b[1;31mValueError\u001b[0m                                Traceback (most recent call last)",
            "\u001b[1;32m~\\AppData\\Local\\Temp/ipykernel_4832/323435116.py\u001b[0m in \u001b[0;36m<module>\u001b[1;34m\u001b[0m\n\u001b[1;32m----> 1\u001b[1;33m \u001b[0mh2\u001b[0m \u001b[1;33m=\u001b[0m \u001b[0mh\u001b[0m\u001b[1;33m.\u001b[0m\u001b[0mHerramientas\u001b[0m\u001b[1;33m(\u001b[0m\u001b[1;34m'algo'\u001b[0m\u001b[1;33m)\u001b[0m\u001b[1;33m\u001b[0m\u001b[1;33m\u001b[0m\u001b[0m\n\u001b[0m",
            "\u001b[1;32mc:\\Users\\lopez\\Documents\\Henry\\Repos\\Python-Prep\\08 - Error Handling\\herramientas.py\u001b[0m in \u001b[0;36m__init__\u001b[1;34m(self, lista_numeros)\u001b[0m\n\u001b[0;32m      3\u001b[0m         \u001b[1;32mif\u001b[0m \u001b[1;33m(\u001b[0m\u001b[0mtype\u001b[0m\u001b[1;33m(\u001b[0m\u001b[0mlista_numeros\u001b[0m\u001b[1;33m)\u001b[0m \u001b[1;33m!=\u001b[0m \u001b[0mlist\u001b[0m\u001b[1;33m)\u001b[0m\u001b[1;33m:\u001b[0m\u001b[1;33m\u001b[0m\u001b[1;33m\u001b[0m\u001b[0m\n\u001b[0;32m      4\u001b[0m             \u001b[0mself\u001b[0m\u001b[1;33m.\u001b[0m\u001b[0mlista\u001b[0m \u001b[1;33m=\u001b[0m \u001b[1;33m[\u001b[0m\u001b[1;36m0\u001b[0m\u001b[1;33m]\u001b[0m\u001b[1;33m\u001b[0m\u001b[1;33m\u001b[0m\u001b[0m\n\u001b[1;32m----> 5\u001b[1;33m             \u001b[1;32mraise\u001b[0m \u001b[0mValueError\u001b[0m\u001b[1;33m(\u001b[0m\u001b[1;34m'Se ha creado con un elemento 0. Se esperaba una lista de núemeros enteros'\u001b[0m\u001b[1;33m)\u001b[0m\u001b[1;33m\u001b[0m\u001b[1;33m\u001b[0m\u001b[0m\n\u001b[0m\u001b[0;32m      6\u001b[0m         \u001b[1;32melse\u001b[0m\u001b[1;33m:\u001b[0m\u001b[1;33m\u001b[0m\u001b[1;33m\u001b[0m\u001b[0m\n\u001b[0;32m      7\u001b[0m             \u001b[0mself\u001b[0m\u001b[1;33m.\u001b[0m\u001b[0mlista\u001b[0m \u001b[1;33m=\u001b[0m \u001b[0mlista_numeros\u001b[0m\u001b[1;33m\u001b[0m\u001b[1;33m\u001b[0m\u001b[0m\n",
            "\u001b[1;31mValueError\u001b[0m: Se ha creado con un elemento 0. Se esperaba una lista de núemeros enteros"
          ]
        }
      ],
      "source": [
        "h2 = h.Herramientas('algo')"
      ]
    },
    {
      "cell_type": "markdown",
      "metadata": {
        "id": "Xnd0BOIOG0KP"
      },
      "source": [
        "6) Agregar casos de pruebas para el método verifica_primos() realizando el cambio en la clase, para que devuelva una lista de True o False en función de que el elemento en la posisicón sea o no primo"
      ]
    },
    {
      "cell_type": "code",
      "execution_count": null,
      "metadata": {
        "id": "cjT-gK8bG0KQ"
      },
      "outputs": [],
      "source": [
        "class ProbandoMiClase2(unittest.TestCase):\n",
        "\n",
        "    def test_verifica_primos1(self):\n",
        "        lis = [2,3,8,10,13]\n",
        "        h1 = h.Herramientas(lis)\n",
        "        primos = h1.verifica_primo()\n",
        "        primos_esperado = [True, True, False, False, True]\n",
        "        self.assertEqual(primos, primos_esperado)"
      ]
    },
    {
      "cell_type": "code",
      "execution_count": null,
      "metadata": {
        "id": "LN-y-Y_tG0KQ",
        "outputId": "591f6992-b452-425c-913e-25a9ced94247"
      },
      "outputs": [
        {
          "data": {
            "text/plain": [
              "<module 'herramientas' from 'c:\\\\Users\\\\lopez\\\\Documents\\\\Henry\\\\Repos\\\\Python-Prep\\\\08 - Error Handling\\\\herramientas.py'>"
            ]
          },
          "execution_count": 15,
          "metadata": {},
          "output_type": "execute_result"
        }
      ],
      "source": [
        "importlib.reload(h)"
      ]
    },
    {
      "cell_type": "code",
      "execution_count": null,
      "metadata": {
        "id": "FlT029P9G0KQ",
        "outputId": "0c1e7dd1-25ec-4f84-b5f8-055846714e06"
      },
      "outputs": [
        {
          "name": "stderr",
          "output_type": "stream",
          "text": [
            "test_crear_objeto1 (__main__.ProbandoMiClase) ... ok\n",
            "test_crear_objeto2 (__main__.ProbandoMiClase) ... ok\n",
            "test_valor_modal (__main__.ProbandoMiClase) ... ok\n",
            "test_verifica_primos1 (__main__.ProbandoMiClase2) ... ok\n",
            "\n",
            "----------------------------------------------------------------------\n",
            "Ran 4 tests in 0.006s\n",
            "\n",
            "OK\n"
          ]
        },
        {
          "data": {
            "text/plain": [
              "<unittest.main.TestProgram at 0x2654fadf070>"
            ]
          },
          "execution_count": 16,
          "metadata": {},
          "output_type": "execute_result"
        }
      ],
      "source": [
        "unittest.main(argv=[''], verbosity=2, exit=False)"
      ]
    },
    {
      "cell_type": "markdown",
      "metadata": {
        "id": "XvpoqN67G0KR"
      },
      "source": [
        "7) Agregar casos de pruebas para el método conversion_grados()"
      ]
    },
    {
      "cell_type": "code",
      "execution_count": null,
      "metadata": {
        "id": "tKYIUvpkG0KR"
      },
      "outputs": [],
      "source": [
        "class ProbandoMiClase3(unittest.TestCase):\n",
        "\n",
        "    def test_verifica_conversion1(self):\n",
        "        lis = [2,3,8,10,13]\n",
        "        h1 = h.Herramientas(lis)\n",
        "        grados = h1.conversion_grados('celsius','farenheit')\n",
        "        grados_esperado = [35.6, 37.4, 46.4, 50.0, 55.4]\n",
        "        self.assertEqual(grados, grados_esperado)"
      ]
    },
    {
      "cell_type": "code",
      "execution_count": null,
      "metadata": {
        "id": "4AWMOvjSG0KR",
        "outputId": "4afb3706-15cd-444c-b286-b87d972cceb4"
      },
      "outputs": [
        {
          "data": {
            "text/plain": [
              "<module 'herramientas' from 'c:\\\\Users\\\\lopez\\\\Documents\\\\Henry\\\\Repos\\\\Python-Prep\\\\08 - Error Handling\\\\herramientas.py'>"
            ]
          },
          "execution_count": 18,
          "metadata": {},
          "output_type": "execute_result"
        }
      ],
      "source": [
        "importlib.reload(h)"
      ]
    },
    {
      "cell_type": "code",
      "execution_count": null,
      "metadata": {
        "id": "_MF_PhsNG0KR",
        "outputId": "5d554cc7-cd30-4235-d758-64f4b9003b5c"
      },
      "outputs": [
        {
          "name": "stderr",
          "output_type": "stream",
          "text": [
            "test_crear_objeto1 (__main__.ProbandoMiClase) ... ok\n",
            "test_crear_objeto2 (__main__.ProbandoMiClase) ... ok\n",
            "test_valor_modal (__main__.ProbandoMiClase) ... ok\n",
            "test_verifica_primos1 (__main__.ProbandoMiClase2) ... ok\n",
            "test_verifica_conversion1 (__main__.ProbandoMiClase3) ... ok\n",
            "\n",
            "----------------------------------------------------------------------\n",
            "Ran 5 tests in 0.004s\n",
            "\n",
            "OK\n"
          ]
        },
        {
          "data": {
            "text/plain": [
              "<unittest.main.TestProgram at 0x2654fadf850>"
            ]
          },
          "execution_count": 19,
          "metadata": {},
          "output_type": "execute_result"
        }
      ],
      "source": [
        "unittest.main(argv=[''], verbosity=2, exit=False)"
      ]
    },
    {
      "cell_type": "markdown",
      "metadata": {
        "id": "tyL5VfG2G0KR"
      },
      "source": [
        "8) Agregar casos de pruebas para el método factorial()"
      ]
    },
    {
      "cell_type": "code",
      "execution_count": null,
      "metadata": {
        "id": "Ww6NXUf0G0KS"
      },
      "outputs": [],
      "source": [
        "class ProbandoMiClase4(unittest.TestCase):\n",
        "\n",
        "    def test_verifica_factorial(self):\n",
        "        lis = [2,3,8,10,13]\n",
        "        h1 = h.Herramientas(lis)\n",
        "        factorial = h1.factorial()\n",
        "        factorial_esperado = [2, 6, 40320, 3628800, 6227020800]\n",
        "        self.assertEqual(factorial, factorial_esperado)"
      ]
    },
    {
      "cell_type": "code",
      "execution_count": null,
      "metadata": {
        "id": "Ev7NT0xLG0KS",
        "outputId": "70370910-88dc-4692-a902-ad964a43c43a"
      },
      "outputs": [
        {
          "data": {
            "text/plain": [
              "<module 'herramientas' from 'c:\\\\Users\\\\lopez\\\\Documents\\\\Henry\\\\Repos\\\\Python-Prep\\\\08 - Error Handling\\\\herramientas.py'>"
            ]
          },
          "execution_count": 21,
          "metadata": {},
          "output_type": "execute_result"
        }
      ],
      "source": [
        "importlib.reload(h)"
      ]
    },
    {
      "cell_type": "code",
      "execution_count": null,
      "metadata": {
        "id": "LYBMt3wAG0KS",
        "outputId": "00b7ff26-a29d-401b-c129-912255bc128d"
      },
      "outputs": [
        {
          "name": "stderr",
          "output_type": "stream",
          "text": [
            "test_crear_objeto1 (__main__.ProbandoMiClase) ... ok\n",
            "test_crear_objeto2 (__main__.ProbandoMiClase) ... ok\n",
            "test_valor_modal (__main__.ProbandoMiClase) ... ok\n",
            "test_verifica_primos1 (__main__.ProbandoMiClase2) ... ok\n",
            "test_verifica_conversion1 (__main__.ProbandoMiClase3) ... ok\n",
            "test_verifica_factorial (__main__.ProbandoMiClase4) ... ok\n",
            "\n",
            "----------------------------------------------------------------------\n",
            "Ran 6 tests in 0.004s\n",
            "\n",
            "OK\n"
          ]
        },
        {
          "data": {
            "text/plain": [
              "<unittest.main.TestProgram at 0x2654faf5730>"
            ]
          },
          "execution_count": 22,
          "metadata": {},
          "output_type": "execute_result"
        }
      ],
      "source": [
        "unittest.main(argv=[''], verbosity=2, exit=False)"
      ]
    }
  ],
  "metadata": {
    "interpreter": {
      "hash": "c85384e4cb51c8b72350f3a8712cc8351fdc3955e32a27f9b60c6242ab125f01"
    },
    "kernelspec": {
      "display_name": "Python 3 (ipykernel)",
      "language": "python",
      "name": "python3"
    },
    "language_info": {
      "codemirror_mode": {
        "name": "ipython",
        "version": 3
      },
      "file_extension": ".py",
      "mimetype": "text/x-python",
      "name": "python",
      "nbconvert_exporter": "python",
      "pygments_lexer": "ipython3",
      "version": "3.9.7"
    },
    "colab": {
      "provenance": [],
      "include_colab_link": true
    }
  },
  "nbformat": 4,
  "nbformat_minor": 0
}